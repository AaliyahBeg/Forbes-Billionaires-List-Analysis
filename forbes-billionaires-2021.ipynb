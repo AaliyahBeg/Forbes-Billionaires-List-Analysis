{
 "cells": [
  {
   "cell_type": "code",
   "execution_count": 1,
   "id": "d7842cee",
   "metadata": {
    "_cell_guid": "b1076dfc-b9ad-4769-8c92-a6c4dae69d19",
    "_uuid": "8f2839f25d086af736a60e9eeb907d3b93b6e0e5",
    "execution": {
     "iopub.execute_input": "2022-05-21T16:17:56.883924Z",
     "iopub.status.busy": "2022-05-21T16:17:56.883530Z",
     "iopub.status.idle": "2022-05-21T16:17:56.903477Z",
     "shell.execute_reply": "2022-05-21T16:17:56.902844Z"
    },
    "papermill": {
     "duration": 0.043031,
     "end_time": "2022-05-21T16:17:56.906106",
     "exception": false,
     "start_time": "2022-05-21T16:17:56.863075",
     "status": "completed"
    },
    "tags": []
   },
   "outputs": [
    {
     "name": "stdout",
     "output_type": "stream",
     "text": [
      "/kaggle/input/forbes-billionaires-of-2021/Billionaire.csv\n"
     ]
    }
   ],
   "source": [
    "# This Python 3 environment comes with many helpful analytics libraries installed\n",
    "# It is defined by the kaggle/python Docker image: https://github.com/kaggle/docker-python\n",
    "# For example, here's several helpful packages to load\n",
    "\n",
    "import numpy as np # linear algebra\n",
    "import pandas as pd # data processing, CSV file I/O (e.g. pd.read_csv)\n",
    "\n",
    "# Input data files are available in the read-only \"../input/\" directory\n",
    "# For example, running this (by clicking run or pressing Shift+Enter) will list all files under the input directory\n",
    "\n",
    "import os\n",
    "for dirname, _, filenames in os.walk('/kaggle/input'):\n",
    "    for filename in filenames:\n",
    "        print(os.path.join(dirname, filename))\n",
    "\n",
    "# You can write up to 20GB to the current directory (/kaggle/working/) that gets preserved as output when you create a version using \"Save & Run All\" \n",
    "# You can also write temporary files to /kaggle/temp/, but they won't be saved outside of the current session"
   ]
  },
  {
   "cell_type": "code",
   "execution_count": 2,
   "id": "15d40eeb",
   "metadata": {
    "execution": {
     "iopub.execute_input": "2022-05-21T16:17:56.944240Z",
     "iopub.status.busy": "2022-05-21T16:17:56.943906Z",
     "iopub.status.idle": "2022-05-21T16:17:56.990874Z",
     "shell.execute_reply": "2022-05-21T16:17:56.989909Z"
    },
    "papermill": {
     "duration": 0.067058,
     "end_time": "2022-05-21T16:17:56.992965",
     "exception": false,
     "start_time": "2022-05-21T16:17:56.925907",
     "status": "completed"
    },
    "tags": []
   },
   "outputs": [
    {
     "data": {
      "text/html": [
       "<div>\n",
       "<style scoped>\n",
       "    .dataframe tbody tr th:only-of-type {\n",
       "        vertical-align: middle;\n",
       "    }\n",
       "\n",
       "    .dataframe tbody tr th {\n",
       "        vertical-align: top;\n",
       "    }\n",
       "\n",
       "    .dataframe thead th {\n",
       "        text-align: right;\n",
       "    }\n",
       "</style>\n",
       "<table border=\"1\" class=\"dataframe\">\n",
       "  <thead>\n",
       "    <tr style=\"text-align: right;\">\n",
       "      <th></th>\n",
       "      <th>Name</th>\n",
       "      <th>NetWorth</th>\n",
       "      <th>Country</th>\n",
       "      <th>Source</th>\n",
       "      <th>Rank</th>\n",
       "      <th>Age</th>\n",
       "      <th>Industry</th>\n",
       "    </tr>\n",
       "  </thead>\n",
       "  <tbody>\n",
       "    <tr>\n",
       "      <th>0</th>\n",
       "      <td>Jeff Bezos</td>\n",
       "      <td>$177 B</td>\n",
       "      <td>United States</td>\n",
       "      <td>Amazon</td>\n",
       "      <td>1</td>\n",
       "      <td>57.0</td>\n",
       "      <td>Technology</td>\n",
       "    </tr>\n",
       "    <tr>\n",
       "      <th>1</th>\n",
       "      <td>Elon Musk</td>\n",
       "      <td>$151 B</td>\n",
       "      <td>United States</td>\n",
       "      <td>Tesla, SpaceX</td>\n",
       "      <td>2</td>\n",
       "      <td>49.0</td>\n",
       "      <td>Automotive</td>\n",
       "    </tr>\n",
       "    <tr>\n",
       "      <th>2</th>\n",
       "      <td>Bernard Arnault &amp; family</td>\n",
       "      <td>$150 B</td>\n",
       "      <td>France</td>\n",
       "      <td>LVMH</td>\n",
       "      <td>3</td>\n",
       "      <td>72.0</td>\n",
       "      <td>Fashion &amp; Retail</td>\n",
       "    </tr>\n",
       "    <tr>\n",
       "      <th>3</th>\n",
       "      <td>Bill Gates</td>\n",
       "      <td>$124 B</td>\n",
       "      <td>United States</td>\n",
       "      <td>Microsoft</td>\n",
       "      <td>4</td>\n",
       "      <td>65.0</td>\n",
       "      <td>Technology</td>\n",
       "    </tr>\n",
       "    <tr>\n",
       "      <th>4</th>\n",
       "      <td>Mark Zuckerberg</td>\n",
       "      <td>$97 B</td>\n",
       "      <td>United States</td>\n",
       "      <td>Facebook</td>\n",
       "      <td>5</td>\n",
       "      <td>36.0</td>\n",
       "      <td>Technology</td>\n",
       "    </tr>\n",
       "  </tbody>\n",
       "</table>\n",
       "</div>"
      ],
      "text/plain": [
       "                       Name NetWorth        Country         Source  Rank  \\\n",
       "0                Jeff Bezos   $177 B  United States         Amazon     1   \n",
       "1                 Elon Musk   $151 B  United States  Tesla, SpaceX     2   \n",
       "2  Bernard Arnault & family   $150 B         France           LVMH     3   \n",
       "3                Bill Gates   $124 B  United States      Microsoft     4   \n",
       "4           Mark Zuckerberg    $97 B  United States       Facebook     5   \n",
       "\n",
       "    Age          Industry  \n",
       "0  57.0        Technology  \n",
       "1  49.0        Automotive  \n",
       "2  72.0  Fashion & Retail  \n",
       "3  65.0        Technology  \n",
       "4  36.0        Technology  "
      ]
     },
     "execution_count": 2,
     "metadata": {},
     "output_type": "execute_result"
    }
   ],
   "source": [
    "df=pd.read_csv('/kaggle/input/forbes-billionaires-of-2021/Billionaire.csv')\n",
    "df.head()"
   ]
  },
  {
   "cell_type": "code",
   "execution_count": 3,
   "id": "cd01705a",
   "metadata": {
    "execution": {
     "iopub.execute_input": "2022-05-21T16:17:57.029034Z",
     "iopub.status.busy": "2022-05-21T16:17:57.028696Z",
     "iopub.status.idle": "2022-05-21T16:17:57.039677Z",
     "shell.execute_reply": "2022-05-21T16:17:57.038767Z"
    },
    "papermill": {
     "duration": 0.031443,
     "end_time": "2022-05-21T16:17:57.041628",
     "exception": false,
     "start_time": "2022-05-21T16:17:57.010185",
     "status": "completed"
    },
    "tags": []
   },
   "outputs": [
    {
     "data": {
      "text/plain": [
       "Name         0\n",
       "NetWorth     0\n",
       "Country      0\n",
       "Source       0\n",
       "Rank         0\n",
       "Age         79\n",
       "Industry     0\n",
       "dtype: int64"
      ]
     },
     "execution_count": 3,
     "metadata": {},
     "output_type": "execute_result"
    }
   ],
   "source": [
    "df.isnull().sum()"
   ]
  },
  {
   "cell_type": "code",
   "execution_count": 4,
   "id": "e247b96c",
   "metadata": {
    "execution": {
     "iopub.execute_input": "2022-05-21T16:17:57.079292Z",
     "iopub.status.busy": "2022-05-21T16:17:57.078998Z",
     "iopub.status.idle": "2022-05-21T16:17:57.098837Z",
     "shell.execute_reply": "2022-05-21T16:17:57.097897Z"
    },
    "papermill": {
     "duration": 0.041307,
     "end_time": "2022-05-21T16:17:57.100859",
     "exception": false,
     "start_time": "2022-05-21T16:17:57.059552",
     "status": "completed"
    },
    "tags": []
   },
   "outputs": [
    {
     "data": {
      "text/plain": [
       "Name        0\n",
       "NetWorth    0\n",
       "Country     0\n",
       "Source      0\n",
       "Rank        0\n",
       "Age         0\n",
       "Industry    0\n",
       "dtype: int64"
      ]
     },
     "execution_count": 4,
     "metadata": {},
     "output_type": "execute_result"
    }
   ],
   "source": [
    "df=df.dropna()\n",
    "df.isnull().sum()"
   ]
  },
  {
   "cell_type": "code",
   "execution_count": 5,
   "id": "654ef348",
   "metadata": {
    "execution": {
     "iopub.execute_input": "2022-05-21T16:17:57.139080Z",
     "iopub.status.busy": "2022-05-21T16:17:57.138523Z",
     "iopub.status.idle": "2022-05-21T16:17:57.149797Z",
     "shell.execute_reply": "2022-05-21T16:17:57.148930Z"
    },
    "papermill": {
     "duration": 0.032334,
     "end_time": "2022-05-21T16:17:57.151733",
     "exception": false,
     "start_time": "2022-05-21T16:17:57.119399",
     "status": "completed"
    },
    "tags": []
   },
   "outputs": [
    {
     "data": {
      "text/plain": [
       "5.007473841554559"
      ]
     },
     "execution_count": 5,
     "metadata": {},
     "output_type": "execute_result"
    }
   ],
   "source": [
    "len(df[df['Country']=='India'])*100/len(df)"
   ]
  },
  {
   "cell_type": "code",
   "execution_count": 6,
   "id": "c8ed29e9",
   "metadata": {
    "execution": {
     "iopub.execute_input": "2022-05-21T16:17:57.190027Z",
     "iopub.status.busy": "2022-05-21T16:17:57.189517Z",
     "iopub.status.idle": "2022-05-21T16:17:57.255902Z",
     "shell.execute_reply": "2022-05-21T16:17:57.255009Z"
    },
    "papermill": {
     "duration": 0.088149,
     "end_time": "2022-05-21T16:17:57.258083",
     "exception": false,
     "start_time": "2022-05-21T16:17:57.169934",
     "status": "completed"
    },
    "tags": []
   },
   "outputs": [
    {
     "data": {
      "text/html": [
       "<div>\n",
       "<style scoped>\n",
       "    .dataframe tbody tr th:only-of-type {\n",
       "        vertical-align: middle;\n",
       "    }\n",
       "\n",
       "    .dataframe tbody tr th {\n",
       "        vertical-align: top;\n",
       "    }\n",
       "\n",
       "    .dataframe thead th {\n",
       "        text-align: right;\n",
       "    }\n",
       "</style>\n",
       "<table border=\"1\" class=\"dataframe\">\n",
       "  <thead>\n",
       "    <tr style=\"text-align: right;\">\n",
       "      <th></th>\n",
       "      <th>Country</th>\n",
       "      <th>%Freq</th>\n",
       "    </tr>\n",
       "  </thead>\n",
       "  <tbody>\n",
       "    <tr>\n",
       "      <th>0</th>\n",
       "      <td>United States</td>\n",
       "      <td>26.905830</td>\n",
       "    </tr>\n",
       "    <tr>\n",
       "      <th>4</th>\n",
       "      <td>China</td>\n",
       "      <td>22.795217</td>\n",
       "    </tr>\n",
       "    <tr>\n",
       "      <th>2</th>\n",
       "      <td>India</td>\n",
       "      <td>5.007474</td>\n",
       "    </tr>\n",
       "    <tr>\n",
       "      <th>11</th>\n",
       "      <td>Russia</td>\n",
       "      <td>4.409567</td>\n",
       "    </tr>\n",
       "    <tr>\n",
       "      <th>8</th>\n",
       "      <td>Germany</td>\n",
       "      <td>4.297459</td>\n",
       "    </tr>\n",
       "  </tbody>\n",
       "</table>\n",
       "</div>"
      ],
      "text/plain": [
       "          Country      %Freq\n",
       "0   United States  26.905830\n",
       "4           China  22.795217\n",
       "2           India   5.007474\n",
       "11         Russia   4.409567\n",
       "8         Germany   4.297459"
      ]
     },
     "execution_count": 6,
     "metadata": {},
     "output_type": "execute_result"
    }
   ],
   "source": [
    "freq=[]\n",
    "for country in df['Country'].unique():\n",
    "    \n",
    "    freq.append([country,len(df[df['Country']==country])*100/len(df)])\n",
    "freq=pd.DataFrame(freq,columns=['Country','%Freq'])\n",
    "freq.sort_values(by='%Freq',ascending=False).head()"
   ]
  },
  {
   "cell_type": "code",
   "execution_count": 7,
   "id": "414745a3",
   "metadata": {
    "execution": {
     "iopub.execute_input": "2022-05-21T16:17:57.297540Z",
     "iopub.status.busy": "2022-05-21T16:17:57.297031Z",
     "iopub.status.idle": "2022-05-21T16:17:57.306089Z",
     "shell.execute_reply": "2022-05-21T16:17:57.305406Z"
    },
    "papermill": {
     "duration": 0.031162,
     "end_time": "2022-05-21T16:17:57.308162",
     "exception": false,
     "start_time": "2022-05-21T16:17:57.277000",
     "status": "completed"
    },
    "tags": []
   },
   "outputs": [],
   "source": [
    "net_worth=[]\n",
    "for i in df['NetWorth']:\n",
    "    net_worth.append(int(float(i[1:-2])))\n",
    "df['NetWorth']=net_worth"
   ]
  },
  {
   "cell_type": "markdown",
   "id": "65daae23",
   "metadata": {
    "papermill": {
     "duration": 0.018376,
     "end_time": "2022-05-21T16:17:57.345480",
     "exception": false,
     "start_time": "2022-05-21T16:17:57.327104",
     "status": "completed"
    },
    "tags": []
   },
   "source": [
    "# 1)Top 10 Billionaires of India "
   ]
  },
  {
   "cell_type": "code",
   "execution_count": 8,
   "id": "086683b5",
   "metadata": {
    "execution": {
     "iopub.execute_input": "2022-05-21T16:17:57.384635Z",
     "iopub.status.busy": "2022-05-21T16:17:57.384347Z",
     "iopub.status.idle": "2022-05-21T16:17:57.394601Z",
     "shell.execute_reply": "2022-05-21T16:17:57.393941Z"
    },
    "papermill": {
     "duration": 0.032131,
     "end_time": "2022-05-21T16:17:57.396535",
     "exception": false,
     "start_time": "2022-05-21T16:17:57.364404",
     "status": "completed"
    },
    "tags": []
   },
   "outputs": [
    {
     "data": {
      "text/plain": [
       "9              Mukesh Ambani\n",
       "23     Gautam Adani & family\n",
       "71                Shiv Nadar\n",
       "116       Radhakishan Damani\n",
       "122               Uday Kotak\n",
       "133           Lakshmi Mittal\n",
       "167              Kumar Birla\n",
       "169         Cyrus Poonawalla\n",
       "203           Dilip Shanghvi\n",
       "213    Sunil Mittal & family\n",
       "Name: Name, dtype: object"
      ]
     },
     "execution_count": 8,
     "metadata": {},
     "output_type": "execute_result"
    }
   ],
   "source": [
    "df[df['Country']==\"India\"].sort_values(by='NetWorth',ascending=False)['Name'].head(10)"
   ]
  },
  {
   "cell_type": "markdown",
   "id": "08bb7220",
   "metadata": {
    "papermill": {
     "duration": 0.019002,
     "end_time": "2022-05-21T16:17:57.434369",
     "exception": false,
     "start_time": "2022-05-21T16:17:57.415367",
     "status": "completed"
    },
    "tags": []
   },
   "source": [
    "# 2)Top 5 Countries with maximum Billionaires"
   ]
  },
  {
   "cell_type": "code",
   "execution_count": 9,
   "id": "490ec1cd",
   "metadata": {
    "execution": {
     "iopub.execute_input": "2022-05-21T16:17:57.474120Z",
     "iopub.status.busy": "2022-05-21T16:17:57.473595Z",
     "iopub.status.idle": "2022-05-21T16:17:57.482305Z",
     "shell.execute_reply": "2022-05-21T16:17:57.481598Z"
    },
    "papermill": {
     "duration": 0.030734,
     "end_time": "2022-05-21T16:17:57.484204",
     "exception": false,
     "start_time": "2022-05-21T16:17:57.453470",
     "status": "completed"
    },
    "tags": []
   },
   "outputs": [
    {
     "data": {
      "text/plain": [
       "Country\n",
       "United States    720\n",
       "China            610\n",
       "India            134\n",
       "Russia           118\n",
       "Germany          115\n",
       "dtype: int64"
      ]
     },
     "execution_count": 9,
     "metadata": {},
     "output_type": "execute_result"
    }
   ],
   "source": [
    "df.groupby('Country').size().sort_values(ascending=False).head()"
   ]
  },
  {
   "cell_type": "markdown",
   "id": "86931ec8",
   "metadata": {
    "papermill": {
     "duration": 0.01892,
     "end_time": "2022-05-21T16:17:57.522343",
     "exception": false,
     "start_time": "2022-05-21T16:17:57.503423",
     "status": "completed"
    },
    "tags": []
   },
   "source": [
    "# 3)Youngest Billionaires to be earning more than $50 B"
   ]
  },
  {
   "cell_type": "code",
   "execution_count": 10,
   "id": "60229b57",
   "metadata": {
    "execution": {
     "iopub.execute_input": "2022-05-21T16:17:57.562715Z",
     "iopub.status.busy": "2022-05-21T16:17:57.562142Z",
     "iopub.status.idle": "2022-05-21T16:17:57.575312Z",
     "shell.execute_reply": "2022-05-21T16:17:57.574509Z"
    },
    "papermill": {
     "duration": 0.035709,
     "end_time": "2022-05-21T16:17:57.577303",
     "exception": false,
     "start_time": "2022-05-21T16:17:57.541594",
     "status": "completed"
    },
    "tags": []
   },
   "outputs": [
    {
     "data": {
      "text/html": [
       "<div>\n",
       "<style scoped>\n",
       "    .dataframe tbody tr th:only-of-type {\n",
       "        vertical-align: middle;\n",
       "    }\n",
       "\n",
       "    .dataframe tbody tr th {\n",
       "        vertical-align: top;\n",
       "    }\n",
       "\n",
       "    .dataframe thead th {\n",
       "        text-align: right;\n",
       "    }\n",
       "</style>\n",
       "<table border=\"1\" class=\"dataframe\">\n",
       "  <thead>\n",
       "    <tr style=\"text-align: right;\">\n",
       "      <th></th>\n",
       "      <th>Name</th>\n",
       "      <th>NetWorth</th>\n",
       "      <th>Country</th>\n",
       "      <th>Source</th>\n",
       "      <th>Rank</th>\n",
       "      <th>Age</th>\n",
       "      <th>Industry</th>\n",
       "    </tr>\n",
       "  </thead>\n",
       "  <tbody>\n",
       "    <tr>\n",
       "      <th>4</th>\n",
       "      <td>Mark Zuckerberg</td>\n",
       "      <td>97</td>\n",
       "      <td>United States</td>\n",
       "      <td>Facebook</td>\n",
       "      <td>5</td>\n",
       "      <td>36.0</td>\n",
       "      <td>Technology</td>\n",
       "    </tr>\n",
       "  </tbody>\n",
       "</table>\n",
       "</div>"
      ],
      "text/plain": [
       "              Name  NetWorth        Country    Source  Rank   Age    Industry\n",
       "4  Mark Zuckerberg        97  United States  Facebook     5  36.0  Technology"
      ]
     },
     "execution_count": 10,
     "metadata": {},
     "output_type": "execute_result"
    }
   ],
   "source": [
    "df[df['NetWorth']>50].sort_values(by='Age').head(1)"
   ]
  },
  {
   "cell_type": "markdown",
   "id": "50e25a6d",
   "metadata": {
    "papermill": {
     "duration": 0.019484,
     "end_time": "2022-05-21T16:17:57.616426",
     "exception": false,
     "start_time": "2022-05-21T16:17:57.596942",
     "status": "completed"
    },
    "tags": []
   },
   "source": [
    "# 4)Which Industry is the most invested in"
   ]
  },
  {
   "cell_type": "code",
   "execution_count": 11,
   "id": "9e68ec44",
   "metadata": {
    "execution": {
     "iopub.execute_input": "2022-05-21T16:17:57.659253Z",
     "iopub.status.busy": "2022-05-21T16:17:57.658725Z",
     "iopub.status.idle": "2022-05-21T16:17:57.667801Z",
     "shell.execute_reply": "2022-05-21T16:17:57.666929Z"
    },
    "papermill": {
     "duration": 0.033594,
     "end_time": "2022-05-21T16:17:57.669763",
     "exception": false,
     "start_time": "2022-05-21T16:17:57.636169",
     "status": "completed"
    },
    "tags": []
   },
   "outputs": [
    {
     "data": {
      "text/plain": [
       "Industry\n",
       "Finance & Investments    365\n",
       "dtype: int64"
      ]
     },
     "execution_count": 11,
     "metadata": {},
     "output_type": "execute_result"
    }
   ],
   "source": [
    "df.groupby('Industry').size().sort_values(ascending=False).head(1)"
   ]
  },
  {
   "cell_type": "markdown",
   "id": "3d6144ae",
   "metadata": {
    "papermill": {
     "duration": 0.020021,
     "end_time": "2022-05-21T16:17:57.710099",
     "exception": false,
     "start_time": "2022-05-21T16:17:57.690078",
     "status": "completed"
    },
    "tags": []
   },
   "source": [
    "# 5)How much money is invested in each Industry"
   ]
  },
  {
   "cell_type": "code",
   "execution_count": 12,
   "id": "680e1b38",
   "metadata": {
    "execution": {
     "iopub.execute_input": "2022-05-21T16:17:57.752128Z",
     "iopub.status.busy": "2022-05-21T16:17:57.751587Z",
     "iopub.status.idle": "2022-05-21T16:17:58.076108Z",
     "shell.execute_reply": "2022-05-21T16:17:58.075066Z"
    },
    "papermill": {
     "duration": 0.348277,
     "end_time": "2022-05-21T16:17:58.078580",
     "exception": false,
     "start_time": "2022-05-21T16:17:57.730303",
     "status": "completed"
    },
    "tags": []
   },
   "outputs": [
    {
     "data": {
      "text/plain": [
       "<AxesSubplot:xlabel='Industry'>"
      ]
     },
     "execution_count": 12,
     "metadata": {},
     "output_type": "execute_result"
    },
    {
     "data": {
      "image/png": "[encoded data removed]",
      "text/plain": [
       "<Figure size 432x288 with 1 Axes>"
      ]
     },
     "metadata": {
      "needs_background": "light"
     },
     "output_type": "display_data"
    }
   ],
   "source": [
    "df.groupby('Industry')['NetWorth'].sum().sort_values(ascending=False).plot(kind='bar')"
   ]
  }
 ],
 "metadata": {
  "kernelspec": {
   "display_name": "Python 3",
   "language": "python",
   "name": "python3"
  },
  "language_info": {
   "codemirror_mode": {
    "name": "ipython",
    "version": 3
   },
   "file_extension": ".py",
   "mimetype": "text/x-python",
   "name": "python",
   "nbconvert_exporter": "python",
   "pygments_lexer": "ipython3",
   "version": "3.7.12"
  },
  "papermill": {
   "default_parameters": {},
   "duration": 11.963098,
   "end_time": "2022-05-21T16:17:58.721350",
   "environment_variables": {},
   "exception": null,
   "input_path": "__notebook__.ipynb",
   "output_path": "__notebook__.ipynb",
   "parameters": {},
   "start_time": "2022-05-21T16:17:46.758252",
   "version": "2.3.4"
  }
 },
 "nbformat": 4,
 "nbformat_minor": 5
}
